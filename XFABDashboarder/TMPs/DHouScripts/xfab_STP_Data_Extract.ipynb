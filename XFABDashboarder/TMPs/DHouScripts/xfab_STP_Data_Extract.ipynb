{
 "cells": [
  {
   "cell_type": "code",
   "execution_count": 2,
   "metadata": {},
   "outputs": [
    {
     "ename": "AttributeError",
     "evalue": "module 'matplotlib' has no attribute 'get_data_path'",
     "output_type": "error",
     "traceback": [
      "\u001b[1;31m---------------------------------------------------------------------------\u001b[0m",
      "\u001b[1;31mAttributeError\u001b[0m                            Traceback (most recent call last)",
      "\u001b[1;32m~\\AppData\\Local\\Temp\\ipykernel_6896\\2754226087.py\u001b[0m in \u001b[0;36m<cell line: 5>\u001b[1;34m()\u001b[0m\n\u001b[0;32m      3\u001b[0m \u001b[1;32mfrom\u001b[0m \u001b[0medwards\u001b[0m\u001b[1;33m.\u001b[0m\u001b[0mold_edwards\u001b[0m \u001b[1;32mimport\u001b[0m \u001b[0mOdbc\u001b[0m\u001b[1;33m\u001b[0m\u001b[1;33m\u001b[0m\u001b[0m\n\u001b[0;32m      4\u001b[0m \u001b[1;32mimport\u001b[0m \u001b[0mpandas\u001b[0m \u001b[1;32mas\u001b[0m \u001b[0mpd\u001b[0m\u001b[1;33m\u001b[0m\u001b[1;33m\u001b[0m\u001b[0m\n\u001b[1;32m----> 5\u001b[1;33m \u001b[1;32mimport\u001b[0m \u001b[0mmatplotlib\u001b[0m\u001b[1;33m.\u001b[0m\u001b[0mpyplot\u001b[0m \u001b[1;32mas\u001b[0m \u001b[0mplt\u001b[0m\u001b[1;33m\u001b[0m\u001b[1;33m\u001b[0m\u001b[0m\n\u001b[0m\u001b[0;32m      6\u001b[0m \u001b[1;32mfrom\u001b[0m \u001b[0mos\u001b[0m \u001b[1;32mimport\u001b[0m \u001b[0mpath\u001b[0m\u001b[1;33m,\u001b[0m \u001b[0mlistdir\u001b[0m\u001b[1;33m,\u001b[0m \u001b[0mmkdir\u001b[0m\u001b[1;33m,\u001b[0m \u001b[0mmakedirs\u001b[0m\u001b[1;33m\u001b[0m\u001b[1;33m\u001b[0m\u001b[0m\n\u001b[0;32m      7\u001b[0m \u001b[1;32mimport\u001b[0m \u001b[0msys\u001b[0m\u001b[1;33m\u001b[0m\u001b[1;33m\u001b[0m\u001b[0m\n",
      "\u001b[1;32mc:\\Users\\a00555655\\.conda\\envs\\dev\\lib\\site-packages\\matplotlib\\__init__.py\u001b[0m in \u001b[0;36m<module>\u001b[1;34m\u001b[0m\n\u001b[0;32m    875\u001b[0m \u001b[1;31m# triggering resolution of _auto_backend_sentinel.\u001b[0m\u001b[1;33m\u001b[0m\u001b[1;33m\u001b[0m\u001b[0m\n\u001b[0;32m    876\u001b[0m rcParamsDefault = _rc_params_in_file(\n\u001b[1;32m--> 877\u001b[1;33m     \u001b[0mcbook\u001b[0m\u001b[1;33m.\u001b[0m\u001b[0m_get_data_path\u001b[0m\u001b[1;33m(\u001b[0m\u001b[1;34m\"matplotlibrc\"\u001b[0m\u001b[1;33m)\u001b[0m\u001b[1;33m,\u001b[0m\u001b[1;33m\u001b[0m\u001b[1;33m\u001b[0m\u001b[0m\n\u001b[0m\u001b[0;32m    878\u001b[0m     \u001b[1;31m# Strip leading comment.\u001b[0m\u001b[1;33m\u001b[0m\u001b[1;33m\u001b[0m\u001b[0m\n\u001b[0;32m    879\u001b[0m     \u001b[0mtransform\u001b[0m\u001b[1;33m=\u001b[0m\u001b[1;32mlambda\u001b[0m \u001b[0mline\u001b[0m\u001b[1;33m:\u001b[0m \u001b[0mline\u001b[0m\u001b[1;33m[\u001b[0m\u001b[1;36m1\u001b[0m\u001b[1;33m:\u001b[0m\u001b[1;33m]\u001b[0m \u001b[1;32mif\u001b[0m \u001b[0mline\u001b[0m\u001b[1;33m.\u001b[0m\u001b[0mstartswith\u001b[0m\u001b[1;33m(\u001b[0m\u001b[1;34m\"#\"\u001b[0m\u001b[1;33m)\u001b[0m \u001b[1;32melse\u001b[0m \u001b[0mline\u001b[0m\u001b[1;33m,\u001b[0m\u001b[1;33m\u001b[0m\u001b[1;33m\u001b[0m\u001b[0m\n",
      "\u001b[1;32mc:\\Users\\a00555655\\.conda\\envs\\dev\\lib\\site-packages\\matplotlib\\cbook\\__init__.py\u001b[0m in \u001b[0;36m_get_data_path\u001b[1;34m(*args)\u001b[0m\n\u001b[0;32m    516\u001b[0m     \u001b[0;31m`\u001b[0m\u001b[0;31m`\u001b[0m\u001b[1;33m*\u001b[0m\u001b[0margs\u001b[0m\u001b[0;31m`\u001b[0m\u001b[0;31m`\u001b[0m \u001b[0mspecify\u001b[0m \u001b[0ma\u001b[0m \u001b[0mpath\u001b[0m \u001b[0mrelative\u001b[0m \u001b[0mto\u001b[0m \u001b[0mthe\u001b[0m \u001b[0mbase\u001b[0m \u001b[0mdata\u001b[0m \u001b[0mpath\u001b[0m\u001b[1;33m.\u001b[0m\u001b[1;33m\u001b[0m\u001b[1;33m\u001b[0m\u001b[0m\n\u001b[0;32m    517\u001b[0m     \"\"\"\n\u001b[1;32m--> 518\u001b[1;33m     \u001b[1;32mreturn\u001b[0m \u001b[0mPath\u001b[0m\u001b[1;33m(\u001b[0m\u001b[0mmatplotlib\u001b[0m\u001b[1;33m.\u001b[0m\u001b[0mget_data_path\u001b[0m\u001b[1;33m(\u001b[0m\u001b[1;33m)\u001b[0m\u001b[1;33m,\u001b[0m \u001b[1;33m*\u001b[0m\u001b[0margs\u001b[0m\u001b[1;33m)\u001b[0m\u001b[1;33m\u001b[0m\u001b[1;33m\u001b[0m\u001b[0m\n\u001b[0m\u001b[0;32m    519\u001b[0m \u001b[1;33m\u001b[0m\u001b[0m\n\u001b[0;32m    520\u001b[0m \u001b[1;33m\u001b[0m\u001b[0m\n",
      "\u001b[1;31mAttributeError\u001b[0m: module 'matplotlib' has no attribute 'get_data_path'"
     ]
    }
   ],
   "source": [
    "import datetime\n",
    "import pyodbc\n",
    "from edwards.old_edwards import Odbc\n",
    "import pandas as pd\n",
    "import matplotlib.pyplot as plt\n",
    "from os import path, listdir, mkdir, makedirs\n",
    "import sys\n",
    "import os\n",
    "import warnings"
   ]
  },
  {
   "cell_type": "code",
   "execution_count": null,
   "metadata": {},
   "outputs": [],
   "source": [
    "ROOT_PATH = sys.path[0][:sys.path[0].rindex('\\\\')]\n",
    "\n",
    "RESOURCES_PATH = os.path.join(ROOT_PATH, r'Resources')"
   ]
  },
  {
   "cell_type": "code",
   "execution_count": null,
   "metadata": {},
   "outputs": [],
   "source": [
    "date = datetime.date.today().strftime(\"%Y-%m-%d\")\n",
    "data_folder = path.join(ROOT_PATH, 'Dashboards', 'Data')"
   ]
  },
  {
   "cell_type": "code",
   "execution_count": null,
   "metadata": {},
   "outputs": [
    {
     "name": "stdout",
     "output_type": "stream",
     "text": [
      "Failed to create new folder, check if already exist\n",
      "STPLP43B :No data\n",
      "NV06-PR :No data\n",
      "LA14-STP :No data\n",
      "NV30-P1 :No data\n",
      "STPLP43D :No data\n",
      "LP43-C-TURBO :No data\n",
      "NS35B-LEFT :No data\n",
      "STPLP43C :No data\n",
      "NV05-P1 :No data\n",
      "NS35C-LEFT :No data\n",
      "NV34-P1 :No data\n",
      "NS35C-RIGHT :No data\n",
      "NS27C-RIGHT :No data\n",
      "NV03-4 :No data\n",
      "NS27C-LEFT :No data\n",
      "NV04-P1 :No data\n",
      "STPLP43 :No data\n",
      "NS35B-RIGHT :No data\n",
      "LP43-D-TURBO :No data\n",
      "NS31B-RIGHT :No data\n"
     ]
    },
    {
     "ename": "",
     "evalue": "",
     "output_type": "error",
     "traceback": [
      "\u001b[1;31mCanceled future for execute_request message before replies were done"
     ]
    },
    {
     "ename": "",
     "evalue": "",
     "output_type": "error",
     "traceback": [
      "\u001b[1;31mThe Kernel crashed while executing code in the the current cell or a previous cell. Please review the code in the cell(s) to identify a possible cause of the failure. Click <a href='https://aka.ms/vscodeJupyterKernelCrash'>here</a> for more info. View Jupyter <a href='command:jupyter.viewOutput'>log</a> for further details."
     ]
    }
   ],
   "source": [
    "warnings.filterwarnings('ignore')\n",
    "\n",
    "try:\n",
    "    makedirs(data_folder)\n",
    "except OSError:\n",
    "    print(\"Failed to create new folder, check if already exist\")\n",
    "else:\n",
    "    print(\"Successfully created new folder\")\n",
    "\n",
    "server = Odbc.SERVER\n",
    "# server = '10.44.221.8'\n",
    "uid = Odbc.UID\n",
    "pwd = Odbc.PWD\n",
    "database = 'scada_Production_XFAB_France'\n",
    "system_type_id = 112 # 112 for STP pump\n",
    "\n",
    "con = pyodbc.connect('Driver={SQL Server};'\n",
    "                     'Server=' + server + ';'\n",
    "                     'Database=' + database + ';'\n",
    "                     'Uid=' + uid + ';'\n",
    "                     'Pwd=' + pwd + ';')\n",
    "\n",
    "# sql = ('SELECT [SystemID], [SystemTypeID], [Description] '\n",
    "#        'FROM [dbo].[fst_GEN_System] '\n",
    "#        'WHERE [SystemTypeID]=' + str(system_type_id) +\n",
    "#         \" AND [Description] like '%LP42C%' \"\n",
    "#        'ORDER BY [Description]')\n",
    "\n",
    "sql = ('SELECT [SystemID], [SystemTypeID], [Description] '\n",
    "       'FROM [dbo].[fst_GEN_System] '\n",
    "       'WHERE [SystemTypeID]=' + str(system_type_id) +\n",
    "       'ORDER BY [Description]')\n",
    "\n",
    "system_info = pd.read_sql_query(sql, con)\n",
    "\n",
    "systems_namelist = list(set(system_info.Description))\n",
    "\n",
    "parameter_info = Odbc.get_parameter_info(database,\n",
    "                                         system_type_id=system_type_id)\n",
    "\n",
    "parameter_numberlist = list(set(parameter_info.ParameterNumber))\n",
    "\n",
    "# parameter_numberlist_target = [1,2,4,23,40,41,42,100,101,102,104]\n",
    "\n",
    "status_map = {'Levitation':1, 'No Levitation':2, 'Acceleration':3, 'Normal':4,\n",
    "              'Deceleration':5, 'Autotest':6, 'Tuning':7, 'Tuning Complete':8,\n",
    "              'Driver Enable':0,'Identifying': -1, 'No Communication':-2,\n",
    "              'Unavailable':-3, 'Comms Fail': -4, 'Network Fault':-5,\n",
    "              'Error': -6\n",
    "              }\n",
    "\n",
    "for system_name in systems_namelist[:]:\n",
    "    # print(system_name)\n",
    "    \"\"\"\n",
    "    data_target = Odbc.get_data(database= database,\n",
    "                         system_name= system_name,\n",
    "                         parameter_number=parameter_numberlist_target,\n",
    "                         start_datetime=datetime.date(2020, 1, 10),\n",
    "                         end_datetime=datetime.date(2021, 6, 9))\n",
    "    \"\"\"\n",
    "    status = Odbc._get_status(database=database,\n",
    "                              system_name=system_name,\n",
    "                              system_type_id=system_type_id)\n",
    "    # start_datetime=datetime.date(2020, 1, 10),\n",
    "    # end_datetime=datetime.date(2021, 6, 19))\n",
    "    if status is not None:\n",
    "        status['zzDescription'] = 'Equipment Status'\n",
    "        status['Value'] = status['primary_message'].map(status_map)\n",
    "        ops_mode = status.drop(columns=['primary_message'])\n",
    "        try:\n",
    "            assert 'LogTime' in ops_mode.columns\n",
    "        except AssertionError:\n",
    "            ops_mode = ops_mode.rename(columns={'logTime': 'LogTime'})\n",
    "    else:\n",
    "        ops_mode = None\n",
    "    data = Odbc.get_data(database=database,\n",
    "                         system_name=system_name,\n",
    "                         parameter_number=parameter_numberlist)\n",
    "    # start_datetime=datetime.date(2020, 1, 10),\n",
    "    # end_datetime=datetime.date(2021, 6, 19))\n",
    "    if data is not None:\n",
    "        try:\n",
    "            assert 'LogTime' in data.columns\n",
    "        except AssertionError:\n",
    "            data = data.rename(columns={'logTime': 'LogTime'})\n",
    "\n",
    "    if data is not None and ops_mode is not None:\n",
    "        data_all = pd.concat([data, ops_mode])\n",
    "    else:\n",
    "        data_all = None\n",
    "\n",
    "    plot = False\n",
    "\n",
    "    if data_all is not None:\n",
    "        df = pd.DataFrame(index=data_all.LogTime)\n",
    "        df = df[~df.index.duplicated()]\n",
    "        for col in data_all.zzDescription.unique():\n",
    "            value = list(data_all.groupby(by='zzDescription').get_group(col).Value)\n",
    "            logTime = data_all.groupby(by='zzDescription').get_group(col).LogTime\n",
    "            series = pd.Series(data=value, index=logTime)\n",
    "            df[col] = series[~series.index.duplicated()]\n",
    "        if plot == True:\n",
    "            param_check = ['Motor Current', 'Motor Speed', 'Vibration B', 'Vibration H',\n",
    "                           'Motor Temperature', 'Ctrl Temperature', 'TMS Temperature']\n",
    "            df[param_check].plot(subplots=True, figsize=(10, 6), title=system_name)\n",
    "    else:\n",
    "        print(system_name, \":No data\")\n",
    "\n",
    "    if data_all is not None:\n",
    "        file_name = system_name + '.parquet'\n",
    "        file_path = path.join(data_folder, file_name)\n",
    "        df.to_parquet(file_path, compression=None)"
   ]
  },
  {
   "cell_type": "code",
   "execution_count": null,
   "metadata": {},
   "outputs": [],
   "source": []
  }
 ],
 "metadata": {
  "kernelspec": {
   "display_name": "dev",
   "language": "python",
   "name": "python3"
  },
  "language_info": {
   "codemirror_mode": {
    "name": "ipython",
    "version": 3
   },
   "file_extension": ".py",
   "mimetype": "text/x-python",
   "name": "python",
   "nbconvert_exporter": "python",
   "pygments_lexer": "ipython3",
   "version": "3.10.5"
  },
  "orig_nbformat": 4,
  "vscode": {
   "interpreter": {
    "hash": "27e55a07bc38151c1c095ec1be726f30fcff6d2fbda644176d0355fa9ce05d44"
   }
  }
 },
 "nbformat": 4,
 "nbformat_minor": 2
}
