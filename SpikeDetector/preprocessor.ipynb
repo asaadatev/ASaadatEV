{
 "cells": [
  {
   "cell_type": "markdown",
   "id": "c7933b34",
   "metadata": {},
   "source": [
    "# Import Modules"
   ]
  },
  {
   "cell_type": "code",
   "execution_count": 1,
   "id": "a713c59b",
   "metadata": {},
   "outputs": [],
   "source": [
    "# Modules for Data Pre-processing #\n",
    "import numpy as np\n",
    "import pandas as pd\n",
    "import os\n",
    "import sys\n",
    "from ev_utilities.db_utils import DataExtractor"
   ]
  },
  {
   "cell_type": "code",
   "execution_count": 63,
   "id": "8897f609",
   "metadata": {},
   "outputs": [],
   "source": [
    "def preprocess_data(dataframe):\n",
    "    # Convert the logtime index to a column and reset the index\n",
    "    dataframe['logtime'] = dataframe.index\n",
    "    dataframe = dataframe.reset_index(drop=True)\n",
    "\n",
    "    # Extract the unique log times\n",
    "    log_times = dataframe['logtime'].unique()\n",
    "\n",
    "    # Convert the log times to numerical values\n",
    "    log_times_mapping = {log_time: i for i, log_time in enumerate(log_times)}\n",
    "    dataframe['logtime'] = dataframe['logtime'].map(log_times_mapping)\n",
    "\n",
    "    # Extract the parameters\n",
    "    parameters = [col for col in dataframe.columns if col!='logtime']\n",
    "    \n",
    "    print(parameters)\n",
    "    print(len(log_times))\n",
    "    print(len(parameters))\n",
    "    print(len(dataframe))\n",
    "\n",
    "    # Create a 3D tensor to hold the timeseries data\n",
    "    timeseries_data = np.zeros((len(log_times), len(parameters), len(dataframe)))\n",
    "\n",
    "    # Populate the tensor with the data\n",
    "    for i, log_time in enumerate(log_times):\n",
    "        log_time_data = dataframe[dataframe['logtime'] == log_times_mapping[log_time]]\n",
    "        for j, parameter in enumerate(parameters):\n",
    "            timeseries_data[i, j, :] = log_time_data[parameter].values\n",
    "\n",
    "    # Return the preprocessed data\n",
    "    return timeseries_data"
   ]
  },
  {
   "cell_type": "code",
   "execution_count": 64,
   "id": "8bcc66ca",
   "metadata": {},
   "outputs": [],
   "source": [
    "length = 1000\n",
    "dataframe = pd.DataFrame({'index':pd.date_range(start='2022/10/23', \n",
    "                                                end='2023/01/01', \n",
    "                                                periods=length),\n",
    "                          'col_1':np.random.rand(1000), \n",
    "                          'col_2':np.random.rand(1000)}).set_index('index', drop=True)"
   ]
  },
  {
   "cell_type": "code",
   "execution_count": 65,
   "id": "b84528e5",
   "metadata": {},
   "outputs": [],
   "source": [
    "dataframe.index.name='LogTime'"
   ]
  },
  {
   "cell_type": "code",
   "execution_count": 66,
   "id": "d7acb754",
   "metadata": {},
   "outputs": [
    {
     "name": "stdout",
     "output_type": "stream",
     "text": [
      "['col_1', 'col_2']\n",
      "1000\n",
      "2\n",
      "1000\n"
     ]
    },
    {
     "data": {
      "text/plain": [
       "array([[0.44290194, 0.44290194, 0.44290194, ..., 0.44290194, 0.44290194,\n",
       "        0.44290194],\n",
       "       [0.17598661, 0.17598661, 0.17598661, ..., 0.17598661, 0.17598661,\n",
       "        0.17598661]])"
      ]
     },
     "execution_count": 66,
     "metadata": {},
     "output_type": "execute_result"
    }
   ],
   "source": [
    "preprocess_data(dataframe)[0]"
   ]
  },
  {
   "cell_type": "code",
   "execution_count": 22,
   "id": "2912b84c",
   "metadata": {},
   "outputs": [],
   "source": [
    "dataframe['delta_time'] = dataframe.index.to_series().diff()"
   ]
  },
  {
   "cell_type": "code",
   "execution_count": 24,
   "id": "5cb88345",
   "metadata": {},
   "outputs": [],
   "source": [
    "dataframe.dropna(inplace=True)"
   ]
  },
  {
   "cell_type": "code",
   "execution_count": 41,
   "id": "45128980",
   "metadata": {},
   "outputs": [],
   "source": [
    "import copy\n",
    "dataframe_copy = copy.deepcopy(dataframe)"
   ]
  },
  {
   "cell_type": "code",
   "execution_count": 42,
   "id": "78884523",
   "metadata": {},
   "outputs": [
    {
     "data": {
      "text/html": [
       "<div>\n",
       "<style scoped>\n",
       "    .dataframe tbody tr th:only-of-type {\n",
       "        vertical-align: middle;\n",
       "    }\n",
       "\n",
       "    .dataframe tbody tr th {\n",
       "        vertical-align: top;\n",
       "    }\n",
       "\n",
       "    .dataframe thead th {\n",
       "        text-align: right;\n",
       "    }\n",
       "</style>\n",
       "<table border=\"1\" class=\"dataframe\">\n",
       "  <thead>\n",
       "    <tr style=\"text-align: right;\">\n",
       "      <th></th>\n",
       "      <th>col_1</th>\n",
       "      <th>col_2</th>\n",
       "      <th>delta_time</th>\n",
       "    </tr>\n",
       "    <tr>\n",
       "      <th>LogTime</th>\n",
       "      <th></th>\n",
       "      <th></th>\n",
       "      <th></th>\n",
       "    </tr>\n",
       "  </thead>\n",
       "  <tbody>\n",
       "    <tr>\n",
       "      <th>2022-10-23 01:40:54.054054054</th>\n",
       "      <td>0.470907</td>\n",
       "      <td>0.878259</td>\n",
       "      <td>0 days 01:40:54.054054054</td>\n",
       "    </tr>\n",
       "    <tr>\n",
       "      <th>2022-10-23 03:21:48.108108108</th>\n",
       "      <td>-1.336770</td>\n",
       "      <td>1.246168</td>\n",
       "      <td>0 days 01:40:54.054054054</td>\n",
       "    </tr>\n",
       "    <tr>\n",
       "      <th>2022-10-23 05:02:42.162162162</th>\n",
       "      <td>-0.058357</td>\n",
       "      <td>-0.149075</td>\n",
       "      <td>0 days 01:40:54.054054054</td>\n",
       "    </tr>\n",
       "    <tr>\n",
       "      <th>2022-10-23 06:43:36.216216216</th>\n",
       "      <td>-1.461536</td>\n",
       "      <td>1.216868</td>\n",
       "      <td>0 days 01:40:54.054054054</td>\n",
       "    </tr>\n",
       "    <tr>\n",
       "      <th>2022-10-23 08:24:30.270270270</th>\n",
       "      <td>1.039255</td>\n",
       "      <td>0.647424</td>\n",
       "      <td>0 days 01:40:54.054054054</td>\n",
       "    </tr>\n",
       "    <tr>\n",
       "      <th>...</th>\n",
       "      <td>...</td>\n",
       "      <td>...</td>\n",
       "      <td>...</td>\n",
       "    </tr>\n",
       "    <tr>\n",
       "      <th>2022-12-31 17:16:23.783783783</th>\n",
       "      <td>0.410162</td>\n",
       "      <td>0.653638</td>\n",
       "      <td>0 days 01:40:54.054054054</td>\n",
       "    </tr>\n",
       "    <tr>\n",
       "      <th>2022-12-31 18:57:17.837837837</th>\n",
       "      <td>0.041411</td>\n",
       "      <td>-1.670965</td>\n",
       "      <td>0 days 01:40:54.054054054</td>\n",
       "    </tr>\n",
       "    <tr>\n",
       "      <th>2022-12-31 20:38:11.891891892</th>\n",
       "      <td>-0.922445</td>\n",
       "      <td>1.211489</td>\n",
       "      <td>0 days 01:40:54.054054055</td>\n",
       "    </tr>\n",
       "    <tr>\n",
       "      <th>2022-12-31 22:19:05.945945946</th>\n",
       "      <td>-1.534124</td>\n",
       "      <td>1.028006</td>\n",
       "      <td>0 days 01:40:54.054054054</td>\n",
       "    </tr>\n",
       "    <tr>\n",
       "      <th>2023-01-01 00:00:00.000000000</th>\n",
       "      <td>-0.546122</td>\n",
       "      <td>-1.032531</td>\n",
       "      <td>0 days 01:40:54.054054054</td>\n",
       "    </tr>\n",
       "  </tbody>\n",
       "</table>\n",
       "<p>999 rows × 3 columns</p>\n",
       "</div>"
      ],
      "text/plain": [
       "                                  col_1     col_2                delta_time\n",
       "LogTime                                                                    \n",
       "2022-10-23 01:40:54.054054054  0.470907  0.878259 0 days 01:40:54.054054054\n",
       "2022-10-23 03:21:48.108108108 -1.336770  1.246168 0 days 01:40:54.054054054\n",
       "2022-10-23 05:02:42.162162162 -0.058357 -0.149075 0 days 01:40:54.054054054\n",
       "2022-10-23 06:43:36.216216216 -1.461536  1.216868 0 days 01:40:54.054054054\n",
       "2022-10-23 08:24:30.270270270  1.039255  0.647424 0 days 01:40:54.054054054\n",
       "...                                 ...       ...                       ...\n",
       "2022-12-31 17:16:23.783783783  0.410162  0.653638 0 days 01:40:54.054054054\n",
       "2022-12-31 18:57:17.837837837  0.041411 -1.670965 0 days 01:40:54.054054054\n",
       "2022-12-31 20:38:11.891891892 -0.922445  1.211489 0 days 01:40:54.054054055\n",
       "2022-12-31 22:19:05.945945946 -1.534124  1.028006 0 days 01:40:54.054054054\n",
       "2023-01-01 00:00:00.000000000 -0.546122 -1.032531 0 days 01:40:54.054054054\n",
       "\n",
       "[999 rows x 3 columns]"
      ]
     },
     "execution_count": 42,
     "metadata": {},
     "output_type": "execute_result"
    }
   ],
   "source": [
    "dataframe_copy.loc[:, ~dataframe_copy.columns.isin(['delta_time', 'timestamp'])] = dataframe_copy.loc[:, ~dataframe_copy.columns.isin(['delta_time', 'timestamp'])].apply(lambda x: (x-x.mean())/x.std())\n",
    "dataframe_copy"
   ]
  },
  {
   "cell_type": "code",
   "execution_count": null,
   "id": "75703127",
   "metadata": {},
   "outputs": [],
   "source": []
  },
  {
   "cell_type": "code",
   "execution_count": null,
   "id": "4b07bf2c",
   "metadata": {},
   "outputs": [],
   "source": []
  },
  {
   "cell_type": "code",
   "execution_count": null,
   "id": "38465e32",
   "metadata": {},
   "outputs": [],
   "source": []
  }
 ],
 "metadata": {
  "kernelspec": {
   "display_name": "dev",
   "language": "python",
   "name": "python3"
  },
  "language_info": {
   "codemirror_mode": {
    "name": "ipython",
    "version": 3
   },
   "file_extension": ".py",
   "mimetype": "text/x-python",
   "name": "python",
   "nbconvert_exporter": "python",
   "pygments_lexer": "ipython3",
   "version": "3.10.5"
  },
  "vscode": {
   "interpreter": {
    "hash": "27e55a07bc38151c1c095ec1be726f30fcff6d2fbda644176d0355fa9ce05d44"
   }
  }
 },
 "nbformat": 4,
 "nbformat_minor": 5
}
